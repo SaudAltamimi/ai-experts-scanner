{
 "cells": [
  {
   "cell_type": "code",
   "execution_count": 2,
   "metadata": {},
   "outputs": [],
   "source": [
    "%reload_ext autoreload\n",
    "%autoreload 2\n",
    "\n",
    "import pandas as pd\n",
    "from ai_experts_scanner.scanner import analyze_company_key_people\n"
   ]
  },
  {
   "cell_type": "code",
   "execution_count": 3,
   "metadata": {},
   "outputs": [],
   "source": [
    "# Example usage\n",
    "company_name = \"Claude\"\n",
    "result = analyze_company_key_people(company_name)\n",
    "print(f\"Analysis for {company_name}:\")\n",
    "print(f\"Number of key people identified: {len(result.key_people)}\")\n",
    "for person in result.key_people:\n",
    "    print(f\"\\nName: {person.name}\")\n",
    "    print(f\"Role: {person.role}\")\n",
    "    print(f\"Background: {person.background}\")\n",
    "    print(f\"Importance: {person.importance}\")"
   ]
  },
  {
   "cell_type": "code",
   "execution_count": 12,
   "metadata": {},
   "outputs": [],
   "source": [
    "%%time\n",
    "\n",
    "# saving the result of each company in excel\n",
    "companies = [\n",
    "    \"Mistral AI\",\n",
    "    'Togather.ai',\n",
    "    'Cursor Ai',\n",
    "    'Perplexity',\n",
    "    'Synthasia',\n",
    "    'DeepL',\n",
    "    'ElevenLabs',\n",
    "    'Character.ai',\n",
    "    'Gemini',\n",
    "    'Claude',\n",
    "    'Replit',\n",
    "    'Moshi Ai',\n",
    "    'Suno',\n",
    "    'Fireflies.ai'\n",
    "\n",
    "]\n",
    "\n",
    "df = pd.DataFrame()\n",
    "\n",
    "for company in companies:\n",
    "    result = analyze_company_key_people(company)\n",
    "    print(f\"Analysis for {company}:\")\n",
    "    print(f\"Number of key people identified: {len(result.key_people)}\")\n",
    "    for person in result.key_people:\n",
    "        print(f\"\\nName: {person.name}\")\n",
    "        print(f\"Role: {person.role}\")\n",
    "        print(f\"Background: {person.background}\")\n",
    "        print(f\"Importance: {person.importance}\")\n",
    "        df = pd.concat([\n",
    "            df, \n",
    "            pd.DataFrame([{\n",
    "                'company_name': company,\n",
    "                'person': person,\n",
    "                'Role': person.role,\n",
    "                'background':person.background,\n",
    "                'importance':person.importance,\n",
    "            }])\n",
    "        ])\n",
    "\n",
    "        # save to not lose the information \n",
    "        df.to_excel('ai_experts_scanner_results.xlsx', index = False)"
   ]
  }
 ],
 "metadata": {
  "kernelspec": {
   "display_name": "venv",
   "language": "python",
   "name": "python3"
  },
  "language_info": {
   "codemirror_mode": {
    "name": "ipython",
    "version": 3
   },
   "file_extension": ".py",
   "mimetype": "text/x-python",
   "name": "python",
   "nbconvert_exporter": "python",
   "pygments_lexer": "ipython3",
   "version": "3.12.1"
  }
 },
 "nbformat": 4,
 "nbformat_minor": 2
}
